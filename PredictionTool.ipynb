{
 "cells": [
  {
   "cell_type": "markdown",
   "metadata": {},
   "source": [
    "# Used Car Price Prediction using kNN and DNN "
   ]
  },
  {
   "cell_type": "code",
   "execution_count": null,
   "metadata": {},
   "outputs": [],
   "source": [
    "import pandas as pd\n",
    "print('success')"
   ]
  },
  {
   "cell_type": "markdown",
   "metadata": {},
   "source": [
    "## Dataset Pre-Processing"
   ]
  },
  {
   "cell_type": "markdown",
   "metadata": {},
   "source": [
    "### 100,000 UK Used Car Data set"
   ]
  },
  {
   "cell_type": "markdown",
   "metadata": {},
   "source": [
    "#### Importing the data\n",
    "audi = pd.read_csv('datasets\\UK_Used_Car_Set\\audi.csv')\n",
    "bmw = pd.read_csv('datasets\\UK_Used_Car_Set\\bmw.csv')\n",
    "cclass = pd.read_csv('datasets\\UK_Used_Car_Set\\cclass.csv')\n",
    "focus = pd.read_csv('datasets\\UK_Used_Car_Set\\focus.csv')\n",
    "ford = pd.read_csv('datasets\\UK_Used_Car_Set\\ford.csv')\n",
    "hyundi = pd.read_csv('datasets\\UK_Used_Car_Set\\hyundi.csv')\n",
    "merc = pd.read_csv('datasets\\UK_Used_Car_Set\\merc.csv')\n",
    "skoda = pd.read_csv('datasets\\UK_Used_Car_Set\\skoda.csv')\n",
    "toyota = pd.read_csv('datasets\\UK_Used_Car_Set\\toyota.csv')\n",
    "vauxhall = pd.read_csv('datasets\\UK_Used_Car_Set\\vauxhall.csv')\n",
    "vw = pd.read_csv('datasets\\UK_Used_Car_Set\\vw.csv')"
   ]
  },
  {
   "cell_type": "markdown",
   "metadata": {},
   "source": [
    "Known things to remove in pre-processing\n",
    "* Engine size 0 - supposed to be for electric cars, if enough values are found this could be removed and made into it's own dataset"
   ]
  }
 ],
 "metadata": {
  "kernelspec": {
   "display_name": "Python 3",
   "language": "python",
   "name": "python3"
  },
  "language_info": {
   "name": "python",
   "version": "3.12.1"
  },
  "orig_nbformat": 4
 },
 "nbformat": 4,
 "nbformat_minor": 2
}
