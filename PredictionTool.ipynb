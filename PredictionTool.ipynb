{
 "cells": [
  {
   "cell_type": "markdown",
   "metadata": {},
   "source": [
    "# Used Car Price Prediction using kNN and DNN "
   ]
  },
  {
   "cell_type": "code",
   "execution_count": 1,
   "metadata": {},
   "outputs": [],
   "source": [
    "#global imports\n",
    "import pandas as pd\n",
    "import matplotlib.pyplot as plt"
   ]
  },
  {
   "cell_type": "markdown",
   "metadata": {},
   "source": [
    "## Dataset Pre-Processing"
   ]
  },
  {
   "cell_type": "markdown",
   "metadata": {},
   "source": [
    "### 100,000 UK Used Car Data set"
   ]
  },
  {
   "cell_type": "markdown",
   "metadata": {},
   "source": [
    "#### Importing the data"
   ]
  },
  {
   "cell_type": "code",
   "execution_count": 2,
   "metadata": {},
   "outputs": [],
   "source": [
    "audi = pd.read_csv('datasets/UK_Used_Car_Set/audi.csv')\n",
    "bmw = pd.read_csv('datasets/UK_Used_Car_Set/bmw.csv')\n",
    "ford = pd.read_csv('datasets/UK_Used_Car_Set/ford.csv')\n",
    "hyundi = pd.read_csv('datasets/UK_Used_Car_Set/hyundi.csv')\n",
    "merc = pd.read_csv('datasets/UK_Used_Car_Set/merc.csv')\n",
    "skoda = pd.read_csv('datasets/UK_Used_Car_Set/skoda.csv')\n",
    "toyota = pd.read_csv('datasets/UK_Used_Car_Set/toyota.csv')\n",
    "vauxhall = pd.read_csv('datasets/UK_Used_Car_Set/vauxhall.csv')\n",
    "vw = pd.read_csv('datasets/UK_Used_Car_Set/vw.csv')"
   ]
  },
  {
   "cell_type": "markdown",
   "metadata": {},
   "source": [
    "#### Exploring the dataset"
   ]
  },
  {
   "cell_type": "code",
   "execution_count": 3,
   "metadata": {},
   "outputs": [
    {
     "name": "stdout",
     "output_type": "stream",
     "text": [
      "Length of audi: 10668\n",
      "Length of bmw: 10781\n",
      "Length of ford: 17965\n",
      "Length of hyundi: 4860\n",
      "Length of merc: 13119\n",
      "Length of skoda: 6267\n",
      "Length of toyota: 6738\n",
      "Length of vauxhall: 13632\n",
      "Length of vw: 15157\n",
      "\n",
      "Total size of the Dataset: 99187\n"
     ]
    }
   ],
   "source": [
    "#Storing the lengths\n",
    "audi_length = len(audi)\n",
    "bmw_length = len(bmw)\n",
    "\n",
    "ford_length = len(ford)\n",
    "hyundi_length = len(hyundi)\n",
    "merc_length = len(merc)\n",
    "skoda_length = len(skoda)\n",
    "toyota_length = len(toyota)\n",
    "vauxhall_length = len(vauxhall)\n",
    "vw_length = len(vw)\n",
    "\n",
    "# Print the lengths\n",
    "print(\"Length of audi:\", audi_length)\n",
    "print(\"Length of bmw:\", bmw_length)\n",
    "print(\"Length of ford:\", ford_length)\n",
    "print(\"Length of hyundi:\", hyundi_length)\n",
    "print(\"Length of merc:\", merc_length)\n",
    "print(\"Length of skoda:\", skoda_length)\n",
    "print(\"Length of toyota:\", toyota_length)\n",
    "print(\"Length of vauxhall:\", vauxhall_length)\n",
    "print(\"Length of vw:\", vw_length)\n",
    "\n",
    "# Calculate and print the total length\n",
    "total_length = sum([audi_length, bmw_length, ford_length, hyundi_length, merc_length, skoda_length, toyota_length, vauxhall_length, vw_length])\n",
    "print(\"\\nTotal size of the Dataset:\", total_length)"
   ]
  },
  {
   "cell_type": "code",
   "execution_count": 4,
   "metadata": {},
   "outputs": [
    {
     "name": "stdout",
     "output_type": "stream",
     "text": [
      "<class 'pandas.core.frame.DataFrame'>\n",
      "RangeIndex: 10668 entries, 0 to 10667\n",
      "Data columns (total 9 columns):\n",
      " #   Column        Non-Null Count  Dtype  \n",
      "---  ------        --------------  -----  \n",
      " 0   model         10668 non-null  object \n",
      " 1   year          10668 non-null  int64  \n",
      " 2   price         10668 non-null  int64  \n",
      " 3   transmission  10668 non-null  object \n",
      " 4   mileage       10668 non-null  int64  \n",
      " 5   fuelType      10668 non-null  object \n",
      " 6   tax           10668 non-null  int64  \n",
      " 7   mpg           10668 non-null  float64\n",
      " 8   engineSize    10668 non-null  float64\n",
      "dtypes: float64(2), int64(4), object(3)\n",
      "memory usage: 750.2+ KB\n"
     ]
    }
   ],
   "source": [
    "audi.info()"
   ]
  },
  {
   "cell_type": "code",
   "execution_count": 5,
   "metadata": {},
   "outputs": [
    {
     "name": "stdout",
     "output_type": "stream",
     "text": [
      "The unique values in the Audi dataset are:\n",
      "\n",
      "Unique values in the 'model' column:\n",
      "[' A1' ' A6' ' A4' ' A3' ' Q3' ' Q5' ' A5' ' S4' ' Q2' ' A7' ' TT' ' Q7'\n",
      " ' RS6' ' RS3' ' A8' ' Q8' ' RS4' ' RS5' ' R8' ' SQ5' ' S8' ' SQ7' ' S3'\n",
      " ' S5' ' A2' ' RS7']\n",
      "\n",
      "\n",
      "Unique values in the 'year' column:\n",
      "[2017 2016 2019 2015 2014 2018 2013 2020 2004 2009 2012 2010 2007 2011\n",
      " 2008 2003 2005 2002 2006 1998 1997]\n",
      "\n",
      "\n",
      "Unique values in the 'price' column:\n",
      "[12500 16500 11000 ... 21291 12380  3750]\n",
      "\n",
      "\n",
      "Unique values in the 'transmission' column:\n",
      "['Manual' 'Automatic' 'Semi-Auto']\n",
      "\n",
      "\n",
      "Unique values in the 'mileage' column:\n",
      "[15735 36203 29946 ...  4018  1978  8646]\n",
      "\n",
      "\n",
      "Unique values in the 'fuelType' column:\n",
      "['Petrol' 'Diesel' 'Hybrid']\n",
      "\n",
      "\n",
      "Unique values in the 'tax' column:\n",
      "[150  20  30 145 125 200   0 205 160 235 260 325 300 165 240 565 265 135\n",
      " 570 555 140 330 305 155 580 290 195 115 295 220 230 280 315 535 190 540\n",
      " 515]\n",
      "\n",
      "\n",
      "Unique values in the 'mpg' column:\n",
      "[ 55.4  64.2  67.3  49.6  58.9  61.4  70.6  60.1  57.6  52.3  53.3  56.5\n",
      "  47.1  47.9  62.8  76.3  51.4  65.7  68.9  50.4  72.4  38.7  74.3  42.8\n",
      "  83.1  57.7  54.3  40.4  44.1  33.2  42.2  44.8  48.7  37.7  35.8  40.9\n",
      "  45.6  34.   29.4  39.8  39.2  41.5  38.2  32.1  30.7  34.9  43.5  36.2\n",
      "  30.1  32.8  29.7  26.4  33.6  34.5  46.3  37.2  80.7  28.8  31.7  32.5\n",
      "  31.4 141.3  31.   35.3  36.7 117.7  29.1  21.4  19.6  26.9  21.1  76.4\n",
      " 156.9 188.3  24.1  22.1  21.6  23.  176.6  22.8  22.4  22.6  24.8  21.9\n",
      "  38.1  42.1  50.   19.3  28.5  21.   28.2  30.4  43.4  37.6  20.3  30.8\n",
      "  51.3  27.4  33.3  27.2  34.4  18.9  25.   44.5]\n",
      "\n",
      "\n",
      "Unique values in the 'engineSize' column:\n",
      "[1.4 2.  1.  3.  1.6 1.8 1.5 4.  2.5 1.2 4.2 2.9 5.2 1.9 2.7 0.  3.2 4.1\n",
      " 6.3]\n",
      "\n",
      "\n"
     ]
    }
   ],
   "source": [
    "print(f'The unique values in the Audi dataset are:\\n')\n",
    "def get_unique_values(dataset):\n",
    "    unique_values_dict = {}\n",
    "    for column in dataset.columns:\n",
    "        unique_values = dataset[column].unique()\n",
    "        unique_values_dict[column] = unique_values\n",
    "    return unique_values_dict\n",
    "\n",
    "unique_values_result = get_unique_values(audi)\n",
    "for column, unique_values in unique_values_result.items():\n",
    "    print(f\"Unique values in the '{column}' column:\")\n",
    "    print(unique_values)\n",
    "    print(\"\\n\")"
   ]
  },
  {
   "cell_type": "markdown",
   "metadata": {},
   "source": [
    "Getting a clearer picture of what types of engine sizes there are in this dataset"
   ]
  },
  {
   "cell_type": "code",
   "execution_count": 6,
   "metadata": {},
   "outputs": [
    {
     "name": "stdout",
     "output_type": "stream",
     "text": [
      "2.0    5169\n",
      "1.4    1594\n",
      "3.0    1149\n",
      "1.6     913\n",
      "1.5     744\n",
      "1.0     558\n",
      "4.0     154\n",
      "1.8     126\n",
      "2.5      61\n",
      "0.0      57\n",
      "2.9      49\n",
      "1.2      31\n",
      "4.2      25\n",
      "5.2      23\n",
      "3.2       5\n",
      "1.9       4\n",
      "2.7       3\n",
      "4.1       2\n",
      "6.3       1\n",
      "Name: engineSize, dtype: int64\n"
     ]
    }
   ],
   "source": [
    "engine_size_counts = audi['engineSize'].value_counts()\n",
    "print(engine_size_counts)\n"
   ]
  },
  {
   "cell_type": "markdown",
   "metadata": {},
   "source": [
    "Checking the total amount of cars with an engine size of 0.0, this means there are electric cars"
   ]
  },
  {
   "cell_type": "code",
   "execution_count": 7,
   "metadata": {},
   "outputs": [
    {
     "name": "stdout",
     "output_type": "stream",
     "text": [
      "Total number of engine sizes equal to 0.0 across all datasets: 273\n"
     ]
    }
   ],
   "source": [
    "datasets = [audi, bmw, ford, hyundi, merc, skoda, toyota, vauxhall, vw]\n",
    "engine_size_zero = 0.0\n",
    "count = 0\n",
    "\n",
    "for df in datasets:\n",
    "    engine_size_counts = df['engineSize'].value_counts()\n",
    "    if 0.0 in engine_size_counts.index:\n",
    "           count += engine_size_counts[0.0]\n",
    "\n",
    "# Print the total number of engine sizes equal to 0.0 across all datasets\n",
    "print(f\"Total number of engine sizes equal to {engine_size_zero} across all datasets: {count}\")"
   ]
  },
  {
   "cell_type": "markdown",
   "metadata": {},
   "source": [
    "Checking for null values"
   ]
  },
  {
   "cell_type": "code",
   "execution_count": 8,
   "metadata": {},
   "outputs": [
    {
     "name": "stdout",
     "output_type": "stream",
     "text": [
      "Total number of null values across all datasets: 0\n"
     ]
    }
   ],
   "source": [
    "total_null_values = 0\n",
    "\n",
    "for df in datasets:\n",
    "    null_values = df.isnull().sum()\n",
    "\n",
    "    total_null_values += null_values.sum()\n",
    "\n",
    "print(f\"Total number of null values across all datasets: {total_null_values}\")"
   ]
  },
  {
   "cell_type": "markdown",
   "metadata": {},
   "source": [
    "Known things to remove in pre-processing\n",
    "* Engine size 0 - supposed to be for electric cars, if enough values are found this could be removed and made into it's own dataset"
   ]
  },
  {
   "cell_type": "markdown",
   "metadata": {},
   "source": [
    "#### Pre-Processing the dataset"
   ]
  },
  {
   "cell_type": "markdown",
   "metadata": {},
   "source": [
    "Extracting 0 value cars and importing them into another dataset"
   ]
  },
  {
   "cell_type": "code",
   "execution_count": 21,
   "metadata": {},
   "outputs": [],
   "source": [
    "# \n",
    "\n",
    "# Initialize an empty DataFrame for electric vehicles\n",
    "electric = pd.DataFrame()\n",
    "\n",
    "# Iterate through the DataFrames\n",
    "for df in datasets:\n",
    "    # Extract rows where engineSize is 0\n",
    "    electric_df = df[df['engineSize'] == 0]\n",
    "    \n",
    "    # Add the extracted rows to the 'electric' DataFrame\n",
    "    electric = pd.concat([electric, electric_df], ignore_index=True)\n",
    "\n",
    "    # Remove the extracted rows from the original DataFrame\n",
    "    df.drop(electric_df.index, inplace=True)\n",
    "\n",
    "# Add the 'electric' DataFrame to the list of DataFrames\n",
    "datasets.append(electric)"
   ]
  },
  {
   "cell_type": "code",
   "execution_count": 27,
   "metadata": {},
   "outputs": [
    {
     "data": {
      "text/html": [
       "<div>\n",
       "<style scoped>\n",
       "    .dataframe tbody tr th:only-of-type {\n",
       "        vertical-align: middle;\n",
       "    }\n",
       "\n",
       "    .dataframe tbody tr th {\n",
       "        vertical-align: top;\n",
       "    }\n",
       "\n",
       "    .dataframe thead th {\n",
       "        text-align: right;\n",
       "    }\n",
       "</style>\n",
       "<table border=\"1\" class=\"dataframe\">\n",
       "  <thead>\n",
       "    <tr style=\"text-align: right;\">\n",
       "      <th></th>\n",
       "      <th>model</th>\n",
       "      <th>year</th>\n",
       "      <th>price</th>\n",
       "      <th>transmission</th>\n",
       "      <th>mileage</th>\n",
       "      <th>fuelType</th>\n",
       "      <th>tax</th>\n",
       "      <th>mpg</th>\n",
       "      <th>engineSize</th>\n",
       "      <th>tax(£)</th>\n",
       "    </tr>\n",
       "  </thead>\n",
       "  <tbody>\n",
       "    <tr>\n",
       "      <th>0</th>\n",
       "      <td>Q5</td>\n",
       "      <td>2019</td>\n",
       "      <td>44790</td>\n",
       "      <td>Automatic</td>\n",
       "      <td>5886</td>\n",
       "      <td>Petrol</td>\n",
       "      <td>135.0</td>\n",
       "      <td>117.7</td>\n",
       "      <td>0.0</td>\n",
       "      <td>NaN</td>\n",
       "    </tr>\n",
       "    <tr>\n",
       "      <th>1</th>\n",
       "      <td>Q3</td>\n",
       "      <td>2019</td>\n",
       "      <td>32788</td>\n",
       "      <td>Automatic</td>\n",
       "      <td>1500</td>\n",
       "      <td>Diesel</td>\n",
       "      <td>145.0</td>\n",
       "      <td>47.1</td>\n",
       "      <td>0.0</td>\n",
       "      <td>NaN</td>\n",
       "    </tr>\n",
       "    <tr>\n",
       "      <th>2</th>\n",
       "      <td>Q3</td>\n",
       "      <td>2020</td>\n",
       "      <td>29944</td>\n",
       "      <td>Manual</td>\n",
       "      <td>1500</td>\n",
       "      <td>Petrol</td>\n",
       "      <td>145.0</td>\n",
       "      <td>40.9</td>\n",
       "      <td>0.0</td>\n",
       "      <td>NaN</td>\n",
       "    </tr>\n",
       "    <tr>\n",
       "      <th>3</th>\n",
       "      <td>Q3</td>\n",
       "      <td>2020</td>\n",
       "      <td>33333</td>\n",
       "      <td>Automatic</td>\n",
       "      <td>1500</td>\n",
       "      <td>Diesel</td>\n",
       "      <td>145.0</td>\n",
       "      <td>47.1</td>\n",
       "      <td>0.0</td>\n",
       "      <td>NaN</td>\n",
       "    </tr>\n",
       "    <tr>\n",
       "      <th>4</th>\n",
       "      <td>Q3</td>\n",
       "      <td>2020</td>\n",
       "      <td>29944</td>\n",
       "      <td>Automatic</td>\n",
       "      <td>1500</td>\n",
       "      <td>Petrol</td>\n",
       "      <td>145.0</td>\n",
       "      <td>32.5</td>\n",
       "      <td>0.0</td>\n",
       "      <td>NaN</td>\n",
       "    </tr>\n",
       "  </tbody>\n",
       "</table>\n",
       "</div>"
      ],
      "text/plain": [
       "  model  year  price transmission  mileage fuelType    tax    mpg  engineSize  \\\n",
       "0    Q5  2019  44790    Automatic     5886   Petrol  135.0  117.7         0.0   \n",
       "1    Q3  2019  32788    Automatic     1500   Diesel  145.0   47.1         0.0   \n",
       "2    Q3  2020  29944       Manual     1500   Petrol  145.0   40.9         0.0   \n",
       "3    Q3  2020  33333    Automatic     1500   Diesel  145.0   47.1         0.0   \n",
       "4    Q3  2020  29944    Automatic     1500   Petrol  145.0   32.5         0.0   \n",
       "\n",
       "   tax(£)  \n",
       "0     NaN  \n",
       "1     NaN  \n",
       "2     NaN  \n",
       "3     NaN  \n",
       "4     NaN  "
      ]
     },
     "execution_count": 27,
     "metadata": {},
     "output_type": "execute_result"
    }
   ],
   "source": [
    "datasets[-1].head()"
   ]
  },
  {
   "cell_type": "code",
   "execution_count": 28,
   "metadata": {},
   "outputs": [
    {
     "name": "stdout",
     "output_type": "stream",
     "text": [
      "<class 'pandas.core.frame.DataFrame'>\n",
      "RangeIndex: 17472 entries, 0 to 17471\n",
      "Data columns (total 10 columns):\n",
      " #   Column        Non-Null Count  Dtype  \n",
      "---  ------        --------------  -----  \n",
      " 0   model         17472 non-null  object \n",
      " 1   year          17472 non-null  int64  \n",
      " 2   price         17472 non-null  int64  \n",
      " 3   transmission  17472 non-null  object \n",
      " 4   mileage       17472 non-null  int64  \n",
      " 5   fuelType      17472 non-null  object \n",
      " 6   tax           14464 non-null  float64\n",
      " 7   mpg           17472 non-null  float64\n",
      " 8   engineSize    17472 non-null  float64\n",
      " 9   tax(£)        3008 non-null   float64\n",
      "dtypes: float64(4), int64(3), object(3)\n",
      "memory usage: 1.3+ MB\n"
     ]
    }
   ],
   "source": [
    "datasets[-1].info()"
   ]
  },
  {
   "cell_type": "markdown",
   "metadata": {},
   "source": []
  }
 ],
 "metadata": {
  "kernelspec": {
   "display_name": "Python 3",
   "language": "python",
   "name": "python3"
  },
  "language_info": {
   "codemirror_mode": {
    "name": "ipython",
    "version": 3
   },
   "file_extension": ".py",
   "mimetype": "text/x-python",
   "name": "python",
   "nbconvert_exporter": "python",
   "pygments_lexer": "ipython3",
   "version": "3.8.8"
  },
  "orig_nbformat": 4
 },
 "nbformat": 4,
 "nbformat_minor": 2
}
