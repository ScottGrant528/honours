{
 "cells": [
  {
   "cell_type": "markdown",
   "metadata": {},
   "source": [
    "# Used Car Price Prediction using kNN and DNN "
   ]
  },
  {
   "cell_type": "code",
   "execution_count": 3,
   "metadata": {},
   "outputs": [],
   "source": [
    "#global imports\n",
    "import pandas as pd"
   ]
  },
  {
   "cell_type": "markdown",
   "metadata": {},
   "source": [
    "## Dataset Pre-Processing"
   ]
  },
  {
   "cell_type": "markdown",
   "metadata": {},
   "source": [
    "### 100,000 UK Used Car Data set"
   ]
  },
  {
   "cell_type": "markdown",
   "metadata": {},
   "source": [
    "#### Importing the data"
   ]
  },
  {
   "cell_type": "code",
   "execution_count": 13,
   "metadata": {},
   "outputs": [],
   "source": [
    "audi = pd.read_csv('datasets/UK_Used_Car_Set/audi.csv')\n",
    "bmw = pd.read_csv('datasets/UK_Used_Car_Set/bmw.csv')\n",
    "ford = pd.read_csv('datasets/UK_Used_Car_Set/ford.csv')\n",
    "hyundi = pd.read_csv('datasets/UK_Used_Car_Set/hyundi.csv')\n",
    "merc = pd.read_csv('datasets/UK_Used_Car_Set/merc.csv')\n",
    "skoda = pd.read_csv('datasets/UK_Used_Car_Set/skoda.csv')\n",
    "toyota = pd.read_csv('datasets/UK_Used_Car_Set/toyota.csv')\n",
    "vauxhall = pd.read_csv('datasets/UK_Used_Car_Set/vauxhall.csv')\n",
    "vw = pd.read_csv('datasets/UK_Used_Car_Set/vw.csv')"
   ]
  },
  {
   "cell_type": "markdown",
   "metadata": {},
   "source": [
    "Exploring the dataset"
   ]
  },
  {
   "cell_type": "code",
   "execution_count": 15,
   "metadata": {},
   "outputs": [
    {
     "name": "stdout",
     "output_type": "stream",
     "text": [
      "Length of audi: 10668\n",
      "Length of bmw: 10781\n",
      "Length of ford: 17965\n",
      "Length of hyundi: 4860\n",
      "Length of merc: 13119\n",
      "Length of skoda: 6267\n",
      "Length of toyota: 6738\n",
      "Length of vauxhall: 13632\n",
      "Length of vw: 15157\n",
      "\n",
      "Total size of the Dataset: 99187\n"
     ]
    }
   ],
   "source": [
    "#Storing the lengths\n",
    "audi_length = len(audi)\n",
    "bmw_length = len(bmw)\n",
    "\n",
    "ford_length = len(ford)\n",
    "hyundi_length = len(hyundi)\n",
    "merc_length = len(merc)\n",
    "skoda_length = len(skoda)\n",
    "toyota_length = len(toyota)\n",
    "vauxhall_length = len(vauxhall)\n",
    "vw_length = len(vw)\n",
    "\n",
    "# Print the lengths\n",
    "print(\"Length of audi:\", audi_length)\n",
    "print(\"Length of bmw:\", bmw_length)\n",
    "print(\"Length of ford:\", ford_length)\n",
    "print(\"Length of hyundi:\", hyundi_length)\n",
    "print(\"Length of merc:\", merc_length)\n",
    "print(\"Length of skoda:\", skoda_length)\n",
    "print(\"Length of toyota:\", toyota_length)\n",
    "print(\"Length of vauxhall:\", vauxhall_length)\n",
    "print(\"Length of vw:\", vw_length)\n",
    "\n",
    "# Calculate and print the total length\n",
    "total_length = sum([audi_length, bmw_length, ford_length, hyundi_length, merc_length, skoda_length, toyota_length, vauxhall_length, vw_length])\n",
    "print(\"\\nTotal size of the Dataset:\", total_length)"
   ]
  },
  {
   "cell_type": "markdown",
   "metadata": {},
   "source": [
    "Known things to remove in pre-processing\n",
    "* Engine size 0 - supposed to be for electric cars, if enough values are found this could be removed and made into it's own dataset"
   ]
  },
  {
   "cell_type": "code",
   "execution_count": 10,
   "metadata": {},
   "outputs": [
    {
     "name": "stdout",
     "output_type": "stream",
     "text": [
      "<class 'pandas.core.frame.DataFrame'>\n",
      "RangeIndex: 10668 entries, 0 to 10667\n",
      "Data columns (total 9 columns):\n",
      " #   Column        Non-Null Count  Dtype  \n",
      "---  ------        --------------  -----  \n",
      " 0   model         10668 non-null  object \n",
      " 1   year          10668 non-null  int64  \n",
      " 2   price         10668 non-null  int64  \n",
      " 3   transmission  10668 non-null  object \n",
      " 4   mileage       10668 non-null  int64  \n",
      " 5   fuelType      10668 non-null  object \n",
      " 6   tax           10668 non-null  int64  \n",
      " 7   mpg           10668 non-null  float64\n",
      " 8   engineSize    10668 non-null  float64\n",
      "dtypes: float64(2), int64(4), object(3)\n",
      "memory usage: 750.2+ KB\n"
     ]
    }
   ],
   "source": [
    "audi.info()"
   ]
  }
 ],
 "metadata": {
  "kernelspec": {
   "display_name": "Python 3",
   "language": "python",
   "name": "python3"
  },
  "language_info": {
   "codemirror_mode": {
    "name": "ipython",
    "version": 3
   },
   "file_extension": ".py",
   "mimetype": "text/x-python",
   "name": "python",
   "nbconvert_exporter": "python",
   "pygments_lexer": "ipython3",
   "version": "3.12.1"
  },
  "orig_nbformat": 4
 },
 "nbformat": 4,
 "nbformat_minor": 2
}
